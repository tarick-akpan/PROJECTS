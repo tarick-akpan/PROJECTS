{
 "cells": [
  {
   "cell_type": "markdown",
   "id": "484dfd4d",
   "metadata": {},
   "source": [
    "## EC3364 Final Project - 2402237"
   ]
  },
  {
   "cell_type": "markdown",
   "id": "21d63616",
   "metadata": {},
   "source": [
    "## Task 0"
   ]
  },
  {
   "cell_type": "markdown",
   "id": "54f318c4",
   "metadata": {},
   "source": [
    "#### Uploaded from GitHub (to not use local file path) as I could not connect my virtual environment to Jupyter nor use Kiwix. Sorry!"
   ]
  },
  {
   "cell_type": "markdown",
   "id": "48c83482",
   "metadata": {},
   "source": [
    "### Instructions to run the the spider:\n"
   ]
  },
  {
   "cell_type": "markdown",
   "id": "96c9634d",
   "metadata": {},
   "source": [
    "1) Navigate to the 'final_project' folder in the zip file\n",
    "2) Open the 'security_exchange' folder located inside (press twice)\n",
    "3) Navigate to the 'spiders' folder\n",
    "4) Open the project_se.py folder\n",
    "5) After loading into the correct wd/virtual environment, run the spider using the following command:\n",
    "\n",
    "scrapy crawl stackexchange -o final_output.json\n",
    "\n",
    "Now the spider should crawl and scrape all the data"
   ]
  },
  {
   "cell_type": "markdown",
   "id": "aa7091b2",
   "metadata": {},
   "source": [
    "#### Standard Imports"
   ]
  },
  {
   "cell_type": "code",
   "execution_count": 112,
   "id": "6672d47e",
   "metadata": {},
   "outputs": [],
   "source": [
    "import os\n",
    "import pandas as pd\n",
    "import matplotlib.pyplot as plt\n",
    "from collections import Counter\n",
    "import matplotlib.dates as mdates\n",
    "import statsmodels.api as sm"
   ]
  },
  {
   "cell_type": "markdown",
   "id": "c6b9e4a6",
   "metadata": {},
   "source": [
    "## Import Data"
   ]
  },
  {
   "cell_type": "code",
   "execution_count": 113,
   "id": "91a1d462",
   "metadata": {
    "scrolled": false
   },
   "outputs": [
    {
     "data": {
      "text/html": [
       "<div>\n",
       "<style scoped>\n",
       "    .dataframe tbody tr th:only-of-type {\n",
       "        vertical-align: middle;\n",
       "    }\n",
       "\n",
       "    .dataframe tbody tr th {\n",
       "        vertical-align: top;\n",
       "    }\n",
       "\n",
       "    .dataframe thead th {\n",
       "        text-align: right;\n",
       "    }\n",
       "</style>\n",
       "<table border=\"1\" class=\"dataframe\">\n",
       "  <thead>\n",
       "    <tr style=\"text-align: right;\">\n",
       "      <th></th>\n",
       "      <th>question_id</th>\n",
       "      <th>title</th>\n",
       "      <th>posting_date</th>\n",
       "      <th>tags</th>\n",
       "      <th>user_id_asker</th>\n",
       "      <th>asker_reputation</th>\n",
       "      <th>total_questions_posted_byuser</th>\n",
       "      <th>total_answers_posted_byuser</th>\n",
       "      <th>total_comments_posted_byuser</th>\n",
       "      <th>answer_id</th>\n",
       "      <th>user_id_answerer</th>\n",
       "      <th>answerer_reputation</th>\n",
       "      <th>comment_id</th>\n",
       "      <th>associated_post_id</th>\n",
       "      <th>user_id_commenter</th>\n",
       "      <th>commenter_reputation</th>\n",
       "    </tr>\n",
       "  </thead>\n",
       "  <tbody>\n",
       "    <tr>\n",
       "      <th>0</th>\n",
       "      <td>274149.0</td>\n",
       "      <td>Is it a security risk to put MAC-adresses in a...</td>\n",
       "      <td>2024-01-17 19:23:29Z</td>\n",
       "      <td>[tls, certificates, mac-address, csr, tls, cer...</td>\n",
       "      <td>denisred</td>\n",
       "      <td>1.0</td>\n",
       "      <td>1</td>\n",
       "      <td>0.0</td>\n",
       "      <td>2.0</td>\n",
       "      <td>NaN</td>\n",
       "      <td>NaN</td>\n",
       "      <td>NaN</td>\n",
       "      <td>NaN</td>\n",
       "      <td>NaN</td>\n",
       "      <td>NaN</td>\n",
       "      <td>NaN</td>\n",
       "    </tr>\n",
       "    <tr>\n",
       "      <th>1</th>\n",
       "      <td>274068.0</td>\n",
       "      <td>How To Decrypt .Cdtt Ransomware Files [closed]</td>\n",
       "      <td>2024-01-12 08:18:50Z</td>\n",
       "      <td>[malware, virus, ransomware, malware, virus, r...</td>\n",
       "      <td>schroeder</td>\n",
       "      <td>128689.0</td>\n",
       "      <td>17</td>\n",
       "      <td>1968.0</td>\n",
       "      <td>71.0</td>\n",
       "      <td>NaN</td>\n",
       "      <td>NaN</td>\n",
       "      <td>NaN</td>\n",
       "      <td>NaN</td>\n",
       "      <td>NaN</td>\n",
       "      <td>NaN</td>\n",
       "      <td>NaN</td>\n",
       "    </tr>\n",
       "    <tr>\n",
       "      <th>2</th>\n",
       "      <td>274078.0</td>\n",
       "      <td>NaN</td>\n",
       "      <td>2024-01-13 07:16:11Z</td>\n",
       "      <td>NaN</td>\n",
       "      <td>NaN</td>\n",
       "      <td>NaN</td>\n",
       "      <td>1</td>\n",
       "      <td>571.0</td>\n",
       "      <td>20.0</td>\n",
       "      <td>274080.0</td>\n",
       "      <td>mti2935</td>\n",
       "      <td>22819.0</td>\n",
       "      <td>NaN</td>\n",
       "      <td>NaN</td>\n",
       "      <td>NaN</td>\n",
       "      <td>NaN</td>\n",
       "    </tr>\n",
       "    <tr>\n",
       "      <th>3</th>\n",
       "      <td>274079.0</td>\n",
       "      <td>Would this be EPA or AES? [closed]</td>\n",
       "      <td>2024-01-13 10:42:48Z</td>\n",
       "      <td>[aes, wireless, authorization, confidentiality...</td>\n",
       "      <td>dipsew</td>\n",
       "      <td>1.0</td>\n",
       "      <td>1</td>\n",
       "      <td>0.0</td>\n",
       "      <td>22.0</td>\n",
       "      <td>NaN</td>\n",
       "      <td>NaN</td>\n",
       "      <td>NaN</td>\n",
       "      <td>NaN</td>\n",
       "      <td>NaN</td>\n",
       "      <td>NaN</td>\n",
       "      <td>NaN</td>\n",
       "    </tr>\n",
       "    <tr>\n",
       "      <th>4</th>\n",
       "      <td>274082.0</td>\n",
       "      <td>NaN</td>\n",
       "      <td>2024-01-13 15:17:32Z</td>\n",
       "      <td>NaN</td>\n",
       "      <td>NaN</td>\n",
       "      <td>NaN</td>\n",
       "      <td>0</td>\n",
       "      <td>123.0</td>\n",
       "      <td>192.0</td>\n",
       "      <td>274083.0</td>\n",
       "      <td>gh0stfish</td>\n",
       "      <td>9377.0</td>\n",
       "      <td>NaN</td>\n",
       "      <td>NaN</td>\n",
       "      <td>NaN</td>\n",
       "      <td>NaN</td>\n",
       "    </tr>\n",
       "    <tr>\n",
       "      <th>...</th>\n",
       "      <td>...</td>\n",
       "      <td>...</td>\n",
       "      <td>...</td>\n",
       "      <td>...</td>\n",
       "      <td>...</td>\n",
       "      <td>...</td>\n",
       "      <td>...</td>\n",
       "      <td>...</td>\n",
       "      <td>...</td>\n",
       "      <td>...</td>\n",
       "      <td>...</td>\n",
       "      <td>...</td>\n",
       "      <td>...</td>\n",
       "      <td>...</td>\n",
       "      <td>...</td>\n",
       "      <td>...</td>\n",
       "    </tr>\n",
       "    <tr>\n",
       "      <th>1621</th>\n",
       "      <td>267023.0</td>\n",
       "      <td>Clarification on vulnerability statuses</td>\n",
       "      <td>2022-12-13 09:26:44Z</td>\n",
       "      <td>[ubuntu, cve, debian, ubuntu, cve, debian]</td>\n",
       "      <td>onaonoamemeamet</td>\n",
       "      <td>1.0</td>\n",
       "      <td>1</td>\n",
       "      <td>0.0</td>\n",
       "      <td>518.0</td>\n",
       "      <td>NaN</td>\n",
       "      <td>NaN</td>\n",
       "      <td>NaN</td>\n",
       "      <td>NaN</td>\n",
       "      <td>NaN</td>\n",
       "      <td>NaN</td>\n",
       "      <td>NaN</td>\n",
       "    </tr>\n",
       "    <tr>\n",
       "      <th>1622</th>\n",
       "      <td>267022.0</td>\n",
       "      <td>Is running PHP file_get_contents on random use...</td>\n",
       "      <td>2022-12-13 08:52:50Z</td>\n",
       "      <td>[php, webserver, server, php, webserver, server]</td>\n",
       "      <td>syed-m-sannan</td>\n",
       "      <td>296.0</td>\n",
       "      <td>3</td>\n",
       "      <td>0.0</td>\n",
       "      <td>3.0</td>\n",
       "      <td>NaN</td>\n",
       "      <td>NaN</td>\n",
       "      <td>NaN</td>\n",
       "      <td>NaN</td>\n",
       "      <td>NaN</td>\n",
       "      <td>NaN</td>\n",
       "      <td>NaN</td>\n",
       "    </tr>\n",
       "    <tr>\n",
       "      <th>1623</th>\n",
       "      <td>267026.0</td>\n",
       "      <td>What is the attack surface of CVE-2014-3802?</td>\n",
       "      <td>2022-12-13 10:08:06Z</td>\n",
       "      <td>[cve, cve]</td>\n",
       "      <td>motti</td>\n",
       "      <td>111.0</td>\n",
       "      <td>1</td>\n",
       "      <td>0.0</td>\n",
       "      <td>146.0</td>\n",
       "      <td>NaN</td>\n",
       "      <td>NaN</td>\n",
       "      <td>NaN</td>\n",
       "      <td>NaN</td>\n",
       "      <td>NaN</td>\n",
       "      <td>NaN</td>\n",
       "      <td>NaN</td>\n",
       "    </tr>\n",
       "    <tr>\n",
       "      <th>1624</th>\n",
       "      <td>267025.0</td>\n",
       "      <td>Are there any security reasons against \"drop-w...</td>\n",
       "      <td>2022-12-13 09:59:57Z</td>\n",
       "      <td>[cookies, domain, sub-domain, cookies, domain,...</td>\n",
       "      <td>adrelanos</td>\n",
       "      <td>754.0</td>\n",
       "      <td>17</td>\n",
       "      <td>2.0</td>\n",
       "      <td>34.0</td>\n",
       "      <td>NaN</td>\n",
       "      <td>NaN</td>\n",
       "      <td>NaN</td>\n",
       "      <td>NaN</td>\n",
       "      <td>NaN</td>\n",
       "      <td>NaN</td>\n",
       "      <td>NaN</td>\n",
       "    </tr>\n",
       "    <tr>\n",
       "      <th>1625</th>\n",
       "      <td>267023.0</td>\n",
       "      <td>NaN</td>\n",
       "      <td>2023-10-12 19:39:46Z</td>\n",
       "      <td>NaN</td>\n",
       "      <td>NaN</td>\n",
       "      <td>NaN</td>\n",
       "      <td>0</td>\n",
       "      <td>4.0</td>\n",
       "      <td>86.0</td>\n",
       "      <td>272587.0</td>\n",
       "      <td>jwp54</td>\n",
       "      <td>12.0</td>\n",
       "      <td>NaN</td>\n",
       "      <td>NaN</td>\n",
       "      <td>NaN</td>\n",
       "      <td>NaN</td>\n",
       "    </tr>\n",
       "  </tbody>\n",
       "</table>\n",
       "<p>1626 rows × 16 columns</p>\n",
       "</div>"
      ],
      "text/plain": [
       "      question_id                                              title  \\\n",
       "0        274149.0  Is it a security risk to put MAC-adresses in a...   \n",
       "1        274068.0     How To Decrypt .Cdtt Ransomware Files [closed]   \n",
       "2        274078.0                                                NaN   \n",
       "3        274079.0                 Would this be EPA or AES? [closed]   \n",
       "4        274082.0                                                NaN   \n",
       "...           ...                                                ...   \n",
       "1621     267023.0            Clarification on vulnerability statuses   \n",
       "1622     267022.0  Is running PHP file_get_contents on random use...   \n",
       "1623     267026.0       What is the attack surface of CVE-2014-3802?   \n",
       "1624     267025.0  Are there any security reasons against \"drop-w...   \n",
       "1625     267023.0                                                NaN   \n",
       "\n",
       "              posting_date                                               tags  \\\n",
       "0     2024-01-17 19:23:29Z  [tls, certificates, mac-address, csr, tls, cer...   \n",
       "1     2024-01-12 08:18:50Z  [malware, virus, ransomware, malware, virus, r...   \n",
       "2     2024-01-13 07:16:11Z                                                NaN   \n",
       "3     2024-01-13 10:42:48Z  [aes, wireless, authorization, confidentiality...   \n",
       "4     2024-01-13 15:17:32Z                                                NaN   \n",
       "...                    ...                                                ...   \n",
       "1621  2022-12-13 09:26:44Z         [ubuntu, cve, debian, ubuntu, cve, debian]   \n",
       "1622  2022-12-13 08:52:50Z   [php, webserver, server, php, webserver, server]   \n",
       "1623  2022-12-13 10:08:06Z                                         [cve, cve]   \n",
       "1624  2022-12-13 09:59:57Z  [cookies, domain, sub-domain, cookies, domain,...   \n",
       "1625  2023-10-12 19:39:46Z                                                NaN   \n",
       "\n",
       "        user_id_asker  asker_reputation  total_questions_posted_byuser  \\\n",
       "0            denisred               1.0                              1   \n",
       "1           schroeder          128689.0                             17   \n",
       "2                 NaN               NaN                              1   \n",
       "3              dipsew               1.0                              1   \n",
       "4                 NaN               NaN                              0   \n",
       "...               ...               ...                            ...   \n",
       "1621  onaonoamemeamet               1.0                              1   \n",
       "1622    syed-m-sannan             296.0                              3   \n",
       "1623            motti             111.0                              1   \n",
       "1624        adrelanos             754.0                             17   \n",
       "1625              NaN               NaN                              0   \n",
       "\n",
       "      total_answers_posted_byuser  total_comments_posted_byuser  answer_id  \\\n",
       "0                             0.0                           2.0        NaN   \n",
       "1                          1968.0                          71.0        NaN   \n",
       "2                           571.0                          20.0   274080.0   \n",
       "3                             0.0                          22.0        NaN   \n",
       "4                           123.0                         192.0   274083.0   \n",
       "...                           ...                           ...        ...   \n",
       "1621                          0.0                         518.0        NaN   \n",
       "1622                          0.0                           3.0        NaN   \n",
       "1623                          0.0                         146.0        NaN   \n",
       "1624                          2.0                          34.0        NaN   \n",
       "1625                          4.0                          86.0   272587.0   \n",
       "\n",
       "     user_id_answerer  answerer_reputation  comment_id  associated_post_id  \\\n",
       "0                 NaN                  NaN         NaN                 NaN   \n",
       "1                 NaN                  NaN         NaN                 NaN   \n",
       "2             mti2935              22819.0         NaN                 NaN   \n",
       "3                 NaN                  NaN         NaN                 NaN   \n",
       "4           gh0stfish               9377.0         NaN                 NaN   \n",
       "...               ...                  ...         ...                 ...   \n",
       "1621              NaN                  NaN         NaN                 NaN   \n",
       "1622              NaN                  NaN         NaN                 NaN   \n",
       "1623              NaN                  NaN         NaN                 NaN   \n",
       "1624              NaN                  NaN         NaN                 NaN   \n",
       "1625            jwp54                 12.0         NaN                 NaN   \n",
       "\n",
       "     user_id_commenter  commenter_reputation  \n",
       "0                  NaN                   NaN  \n",
       "1                  NaN                   NaN  \n",
       "2                  NaN                   NaN  \n",
       "3                  NaN                   NaN  \n",
       "4                  NaN                   NaN  \n",
       "...                ...                   ...  \n",
       "1621               NaN                   NaN  \n",
       "1622               NaN                   NaN  \n",
       "1623               NaN                   NaN  \n",
       "1624               NaN                   NaN  \n",
       "1625               NaN                   NaN  \n",
       "\n",
       "[1626 rows x 16 columns]"
      ]
     },
     "execution_count": 113,
     "metadata": {},
     "output_type": "execute_result"
    }
   ],
   "source": [
    "# Path to the JSON file\n",
    "json_path = 'https://raw.githubusercontent.com/tarick-akpan/EC3364-Final-Project/main/final_output.json'\n",
    "\n",
    "# Read the JSON file into a DataFrame\n",
    "reed = pd.read_json(json_path)\n",
    "\n",
    "# Function to normalize question_id\n",
    "def normalize_question_id(row):\n",
    "    if 'title' in row and pd.notna(row['title']):\n",
    "        return row['question_id']\n",
    "    else:\n",
    "        return row['associated_question_id'] if 'associated_question_id' in row else None\n",
    "\n",
    "# Apply the function to normalize question_id\n",
    "reed['question_id'] = reed.apply(normalize_question_id, axis=1)\n",
    "\n",
    "# Drop the 'associated_question_id' column if it exists\n",
    "if 'associated_question_id' in reed.columns:\n",
    "    reed.drop(columns='associated_question_id', inplace=True)\n",
    "\n",
    "# Sort question_id\n",
    "sorted_reed = reed.sort_values(by='question_id', ascending=False)\n",
    "reed\n"
   ]
  },
  {
   "cell_type": "markdown",
   "id": "b9bffc6a",
   "metadata": {},
   "source": [
    "### Task one"
   ]
  },
  {
   "cell_type": "markdown",
   "id": "9f8511de",
   "metadata": {},
   "source": [
    "#### Part 1"
   ]
  },
  {
   "cell_type": "code",
   "execution_count": 114,
   "id": "91a7c4a0",
   "metadata": {},
   "outputs": [],
   "source": [
    "def tag_frequencies(df, tags_list):\n",
    "    # Extract all tags from the DataFrame\n",
    "    all_tags = [tag for sublist in df['tags'].dropna() for tag in sublist]\n",
    "\n",
    "    # Count the frequency of each tag\n",
    "    tag_counts = Counter(all_tags)\n",
    "\n",
    "    # Filter the counts for the specified tags\n",
    "    filtered_counts = {tag: tag_counts[tag] for tag in tags_list}\n",
    "\n",
    "    # Create a bar chart for the tag frequencies\n",
    "    plt.figure(figsize=(10, 6))\n",
    "    plt.bar(filtered_counts.keys(), filtered_counts.values())\n",
    "    plt.xlabel('Tags')\n",
    "    plt.ylabel('Frequency')\n",
    "    plt.title('Frequency of Specified Tags in the Subforum')\n",
    "    plt.xticks(rotation=45)\n",
    "    plt.show()"
   ]
  },
  {
   "cell_type": "code",
   "execution_count": 115,
   "id": "6f2ec4c7",
   "metadata": {},
   "outputs": [
    {
     "data": {
      "image/png": "[encoded data removed]",
      "text/plain": [
       "<Figure size 720x432 with 1 Axes>"
      ]
     },
     "metadata": {
      "needs_background": "light"
     },
     "output_type": "display_data"
    }
   ],
   "source": [
    "# Example usage:\n",
    "tag_frequencies(reed, ['tls', 'malware', 'aes'])"
   ]
  },
  {
   "cell_type": "markdown",
   "id": "ad567514",
   "metadata": {},
   "source": [
    "#### Part 2"
   ]
  },
  {
   "cell_type": "code",
   "execution_count": 116,
   "id": "a1662e58",
   "metadata": {},
   "outputs": [],
   "source": [
    "def plot_top_tags_over_time(reed, top_n=5):\n",
    "    # Flatten the list of tags and count occurrences\n",
    "    all_tags = [tag for sublist in reed['tags'].dropna() for tag in sublist]\n",
    "    tag_counts = Counter(all_tags)\n",
    "\n",
    "    # Get the top N most common tags\n",
    "    top_tags = [tag for tag, count in tag_counts.most_common(top_n)]\n",
    "\n",
    "    # Convert 'posting_date' to datetime and normalize to either tz-aware or tz-naive\n",
    "    reed['posting_date'] = pd.to_datetime(reed['posting_date'], utc=True)\n",
    "\n",
    "    # Set up the plot\n",
    "    plt.figure(figsize=(15, 7))\n",
    "\n",
    "    for tag in top_tags:\n",
    "        # Filter DataFrame for each tag\n",
    "        tag_df = reed[reed['tags'].apply(lambda x: tag in x if isinstance(x, list) else False)]\n",
    "\n",
    "        # Group by time interval (e.g., monthly) and count questions\n",
    "        grouped = tag_df.groupby(pd.Grouper(key='posting_date', freq='M')).count()\n",
    "\n",
    "        # Plot the data\n",
    "        plt.plot(grouped.index, grouped['question_id'], label=tag)\n",
    "\n",
    "    # Formatting the plot\n",
    "    plt.xlabel('Time')\n",
    "    plt.ylabel('Number of Questions')\n",
    "    plt.title('Number of Questions Over Time for Top 5 Tags')\n",
    "    plt.legend()\n",
    "\n",
    "    # Adjust x-axis to only show each year\n",
    "    plt.gca().xaxis.set_major_formatter(mdates.DateFormatter('%Y'))\n",
    "    plt.gca().xaxis.set_major_locator(mdates.YearLocator())\n",
    "    plt.xticks(rotation=45)\n",
    "    plt.show()"
   ]
  },
  {
   "cell_type": "code",
   "execution_count": 117,
   "id": "4bd7eb9c",
   "metadata": {},
   "outputs": [
    {
     "data": {
      "image/png": "[encoded data removed]",
      "text/plain": [
       "<Figure size 1080x504 with 1 Axes>"
      ]
     },
     "metadata": {
      "needs_background": "light"
     },
     "output_type": "display_data"
    }
   ],
   "source": [
    "# Example usage\n",
    "plot_top_tags_over_time(reed)"
   ]
  },
  {
   "cell_type": "markdown",
   "id": "5fa854d3",
   "metadata": {},
   "source": [
    "#### Part 3"
   ]
  },
  {
   "cell_type": "code",
   "execution_count": 118,
   "id": "a1565ee0",
   "metadata": {},
   "outputs": [],
   "source": [
    "def find_most_active_user(df, tag, activity_type):\n",
    "    # Filter for the specific tag if not \"all\"\n",
    "    if tag != \"all\":\n",
    "        df = df[df['tags'].apply(lambda x: tag in x if isinstance(x, list) else False)]\n",
    "    \n",
    "    # Initialize the most active user variable\n",
    "    most_active = None\n",
    "    \n",
    "    # Depending on the type, perform the appropriate aggregation\n",
    "    if activity_type == \"question\":\n",
    "        # Count the number of questions asked by each user and find the max\n",
    "        user_counts = df.groupby('user_id_asker')['question_id'].count()\n",
    "        most_active = user_counts.idxmax() if not user_counts.empty else None\n",
    "    elif activity_type == \"answer\":\n",
    "        # Count the number of answers given by each user and find the max\n",
    "        user_counts = df.groupby('user_id_answerer')['answer_id'].count()\n",
    "        most_active = user_counts.idxmax() if not user_counts.empty else None\n",
    "    elif activity_type == \"comment\":\n",
    "        # Count the number of comments made by each user and find the max\n",
    "        user_counts = df.groupby('user_id_commenter')['comment_id'].count()\n",
    "        most_active = user_counts.idxmax() if not user_counts.empty else None\n",
    "    else:\n",
    "        raise ValueError(\"Type must be 'question', 'answer', or 'comment'\")\n",
    "    \n",
    "    return most_active if most_active else \"No users with the specified criteria.\""
   ]
  },
  {
   "cell_type": "code",
   "execution_count": 119,
   "id": "216fabb2",
   "metadata": {},
   "outputs": [
    {
     "data": {
      "text/plain": [
       "'assistanttotheca'"
      ]
     },
     "execution_count": 119,
     "metadata": {},
     "output_type": "execute_result"
    }
   ],
   "source": [
    "# Example usage:\n",
    "find_most_active_user(reed, \"tls\", \"question\")"
   ]
  },
  {
   "cell_type": "markdown",
   "id": "440bf3c2",
   "metadata": {},
   "source": [
    "#### Part 4"
   ]
  },
  {
   "cell_type": "code",
   "execution_count": 120,
   "id": "c0a21dad",
   "metadata": {},
   "outputs": [
    {
     "data": {
      "image/png": "[encoded data removed]",
      "text/plain": [
       "<Figure size 720x432 with 1 Axes>"
      ]
     },
     "metadata": {
      "needs_background": "light"
     },
     "output_type": "display_data"
    },
    {
     "data": {
      "image/png": "[encoded data removed]",
      "text/plain": [
       "<Figure size 720x432 with 1 Axes>"
      ]
     },
     "metadata": {
      "needs_background": "light"
     },
     "output_type": "display_data"
    },
    {
     "data": {
      "image/png": "[encoded data removed]",
      "text/plain": [
       "<Figure size 720x432 with 1 Axes>"
      ]
     },
     "metadata": {
      "needs_background": "light"
     },
     "output_type": "display_data"
    }
   ],
   "source": [
    "def plot_user_activity(df):\n",
    "    # Plot for Questions vs Reputation\n",
    "    plt.figure(figsize=(10, 6))\n",
    "    plt.scatter(df['total_questions_posted_byuser'], df['asker_reputation'])\n",
    "    plt.xlabel(\"Total Questions Posted\")\n",
    "    plt.ylabel(\"User Reputation\")\n",
    "    plt.title(\"Correlation between User Reputation and Total Questions Posted\")\n",
    "    plt.grid(True)\n",
    "    plt.show()\n",
    "\n",
    "    # Plot for Answers vs Reputation\n",
    "    plt.figure(figsize=(10, 6))\n",
    "    plt.scatter(df['total_answers_posted_byuser'], df['answerer_reputation'])\n",
    "    plt.xlabel(\"Total Answers Posted\")\n",
    "    plt.ylabel(\"User Reputation\")\n",
    "    plt.title(\"Correlation between User Reputation and Total Answers Posted\")\n",
    "    plt.grid(True)\n",
    "    plt.show()\n",
    "\n",
    "    # Plot for Comments vs Reputation\n",
    "    plt.figure(figsize=(10, 6))\n",
    "    plt.scatter(df['total_comments_posted_byuser'], df['commenter_reputation'])\n",
    "    plt.xlabel(\"Total Comments Posted\")\n",
    "    plt.ylabel(\"User Reputation\")\n",
    "    plt.title(\"Correlation between User Reputation and Total Comments Posted\")\n",
    "    plt.grid(True)\n",
    "    plt.show()\n",
    "\n",
    "# Call the function with your DataFrame\n",
    "plot_user_activity(reed)"
   ]
  },
  {
   "cell_type": "markdown",
   "id": "d1d4a396",
   "metadata": {},
   "source": [
    "The \"Answers vs Reputation\" graph is most insightful in illustrating the relationship between the activity of users on the stackexchange and their reputation. This graph displays a positive trend indicating that users who have contributed a larger number of answers tend to have higher reputations. This pattern suggests a strong and positive correlation between these two variables – the number of answers posted and the reputation of the users.\n",
    "\n",
    "Several key observations support this conclusion:\n",
    "\n",
    "Strong Positive Correlation: The graph shows that as the number of answers increases, so does the user's reputation. This trend is more linear and consistent compared to the other graphs (such as \"Questions vs Reputation\" and \"Comments vs Reputation\"), indicating a stronger correlation. The linear pattern is a classic indication of a positive correlation, where an increase in one variable is associated with an increase in another.\n",
    "\n",
    "Density of Data Points: The concentration of data points along the upward trajectory on the graph signifies that this pattern is consistent across a broad spectrum of users, not just limited to a few outliers. This density provides confidence that the observed trend is representative of the general user behavior on the platform.\n",
    "\n",
    "Fewer Outliers: Compared to the other graphs, the \"Answers vs Reputation\" graph has fewer outliers. Outliers can often skew the perception of a relationship between variables. The relative lack of outliers in this graph suggests that the observed correlation is not significantly impacted by extreme values, thereby lending greater validity to the observed trend."
   ]
  },
  {
   "cell_type": "markdown",
   "id": "fe9e7838",
   "metadata": {},
   "source": [
    "#### Part 5"
   ]
  },
  {
   "cell_type": "code",
   "execution_count": 121,
   "id": "ad5e07b9",
   "metadata": {
    "scrolled": true
   },
   "outputs": [
    {
     "name": "stdout",
     "output_type": "stream",
     "text": [
      "                             OLS Regression Results                            \n",
      "===============================================================================\n",
      "Dep. Variable:     answerer_reputation   R-squared:                       0.532\n",
      "Model:                             OLS   Adj. R-squared:                  0.532\n",
      "Method:                  Least Squares   F-statistic:                     1847.\n",
      "Date:                 Thu, 18 Jan 2024   Prob (F-statistic):          3.82e-270\n",
      "Time:                         01:23:25   Log-Likelihood:                -16553.\n",
      "No. Observations:                 1626   AIC:                         3.311e+04\n",
      "Df Residuals:                     1624   BIC:                         3.312e+04\n",
      "Df Model:                            1                                         \n",
      "Covariance Type:             nonrobust                                         \n",
      "===============================================================================================\n",
      "                                  coef    std err          t      P>|t|      [0.025      0.975]\n",
      "-----------------------------------------------------------------------------------------------\n",
      "const                         -68.7593    161.055     -0.427      0.669    -384.657     247.139\n",
      "total_answers_posted_byuser    43.1424      1.004     42.977      0.000      41.173      45.111\n",
      "==============================================================================\n",
      "Omnibus:                     1036.934   Durbin-Watson:                   2.016\n",
      "Prob(Omnibus):                  0.000   Jarque-Bera (JB):          1290572.358\n",
      "Skew:                           1.463   Prob(JB):                         0.00\n",
      "Kurtosis:                     140.987   Cond. No.                         163.\n",
      "==============================================================================\n",
      "\n",
      "Notes:\n",
      "[1] Standard Errors assume that the covariance matrix of the errors is correctly specified.\n"
     ]
    }
   ],
   "source": [
    "# We will use 'total_answers_posted_byuser' as the independent variable (X) and 'answerer_reputation' as the dependent variable (Y)\n",
    "X = reed['total_answers_posted_byuser'].fillna(0) \n",
    "Y = reed['answerer_reputation'].fillna(0)  \n",
    "\n",
    "# We will add a constant term to the independent variable we do not capture all variables\n",
    "X = sm.add_constant(X)\n",
    "\n",
    "# Run the OLS regression\n",
    "model = sm.OLS(Y, X).fit()\n",
    "\n",
    "# Print the summary of the regression\n",
    "print(model.summary())"
   ]
  },
  {
   "cell_type": "markdown",
   "id": "c75536ef",
   "metadata": {},
   "source": [
    "#### Interpretation of Results"
   ]
  },
  {
   "cell_type": "markdown",
   "id": "dbaee4c2",
   "metadata": {},
   "source": [
    "When examining the OLS regression results for the connection between the number of answers users have contributed and their reputation scores, we uncover some intriguing insights;\n",
    "\n",
    "R-squared at 0.532: This figure tells us that 53.2% of the variation in reputation scores among users is tied to how many answers they've posted. Whilst it is a significant chunk, but it also hints that other factors are playing a role in shaping reputation that we're not accounting for in this analysis.\n",
    "\n",
    "The Coefficients Breakdown:\n",
    "\n",
    "The Constant ( -68.7593 ): This is a baseline reputation when no answers are posted. The figure here is around  -68.76, but the high p-value suggests we shouldn't put too much stock in this specific number.\n",
    "Total Answers Posted (43.1424): For every additional answer a user posts, their reputation is likely to increase by about 43.14 points. This is a significant finding, backed by a very low p-value.\n",
    "P-value (Extremely Low): The minuscule p-value here strongly suggests that this pattern we're seeing isn't just a fluke or a random occurrence. There's a real relationship here.\n",
    "\n",
    "Durbin-Watson Close to 2.0: This score supports our analysis. It implies that the residuals (the differences between observed and predicted values) aren't really following any discernible pattern that could skew our results.\n",
    "\n",
    "Normality Tests (Omnibus, JB, Skew, Kurtosis): These tests suggest that the residuals – the differences between our model's predictions and the actual data – aren't evenly spread out. Our model isn't capturing all the nuances of the real-world data.\n",
    "\n",
    "In summary, while our analysis does reveal a significant and positive link between the number of answers posted and reputation, it's crucial to remember that this doesn't necessarily mean one causes the other. There could be other factors at play that we haven't considered. Additionally, the concerns raised by the normality tests suggest that a more sophisticated model might give us a clearer picture of what's really going on. \n",
    "\n",
    "We can conclude, however, that our previous assertion is supported by these findings."
   ]
  }
 ],
 "metadata": {
  "kernelspec": {
   "display_name": "Python 3 (ipykernel)",
   "language": "python",
   "name": "python3"
  },
  "language_info": {
   "codemirror_mode": {
    "name": "ipython",
    "version": 3
   },
   "file_extension": ".py",
   "mimetype": "text/x-python",
   "name": "python",
   "nbconvert_exporter": "python",
   "pygments_lexer": "ipython3",
   "version": "3.9.12"
  }
 },
 "nbformat": 4,
 "nbformat_minor": 5
}
